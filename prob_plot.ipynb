{
  "nbformat": 4,
  "nbformat_minor": 0,
  "metadata": {
    "colab": {
      "name": "prob_plot.ipynb",
      "provenance": [],
      "collapsed_sections": [],
      "authorship_tag": "ABX9TyMHC6hswCVzfDaU3frlKUDa",
      "include_colab_link": true
    },
    "kernelspec": {
      "display_name": "Python 3",
      "name": "python3"
    },
    "language_info": {
      "name": "python"
    }
  },
  "cells": [
    {
      "cell_type": "markdown",
      "metadata": {
        "id": "view-in-github",
        "colab_type": "text"
      },
      "source": [
        "<a href=\"https://colab.research.google.com/github/inooni/skt-ai-fellowship/blob/main/prob_plot.ipynb\" target=\"_parent\"><img src=\"https://colab.research.google.com/assets/colab-badge.svg\" alt=\"Open In Colab\"/></a>"
      ]
    },
    {
      "cell_type": "code",
      "metadata": {
        "colab": {
          "base_uri": "https://localhost:8080/"
        },
        "id": "JD_EtAGoo5dc",
        "outputId": "f81341ff-9c5c-4e78-e513-0a943390d702"
      },
      "source": [
        " from google.colab import drive\n",
        " \n",
        "drive.mount('/content/drive')"
      ],
      "execution_count": 2,
      "outputs": [
        {
          "output_type": "stream",
          "text": [
            "Mounted at /content/drive\n"
          ],
          "name": "stdout"
        }
      ]
    },
    {
      "cell_type": "code",
      "metadata": {
        "id": "iQXo20ohpCZp"
      },
      "source": [
        "import pandas as pd\n",
        "import numpy as np\n",
        "import os\n",
        "import matplotlib.pyplot as plt\n",
        "import csv\n",
        "import seaborn as sns"
      ],
      "execution_count": 3,
      "outputs": []
    },
    {
      "cell_type": "code",
      "metadata": {
        "colab": {
          "base_uri": "https://localhost:8080/",
          "height": 842
        },
        "id": "W9TKr6hwpCo5",
        "outputId": "080061e6-d2d5-4495-d094-35e51e12c9f2"
      },
      "source": [
        " \n",
        " \n",
        "dataset_path = '/content/drive/My Drive/NASA_Bearing/2nd_test/analysis/Bearing_1/fft_result/'\n",
        " \n",
        "\n",
        "file = open(os.path.join(dataset_path, str(700)+'.csv'), 'r') # 700은 임의로 선정\n",
        "csvfile = csv.reader(file)\n",
        "lists = list(csvfile)\n",
        " \n",
        "t = np.arange(0, 984,1)\n",
        " \n",
        "arr = []\n",
        "\n",
        "for element in lists[0]:\n",
        "    arr.append(float(element))\n",
        " \n",
        "df = pd.DataFrame(arr[0:700],columns=['DATA_1 ~ 700'])\n",
        "print(df.describe())\n",
        "print('')\n",
        "print('')\n",
        "df = pd.DataFrame(arr[700:900],columns=['DATA_701 ~ 900'])\n",
        "print(df.describe())\n",
        "print('')\n",
        "print('')\n",
        "df = pd.DataFrame(arr[900:984],columns=['DATA_900 ~ 984'])\n",
        "print(df.describe())\n",
        "print('')\n",
        "print('')\n",
        "\n",
        "\n",
        "\n",
        "sns.kdeplot(arr[0:700],color = 'green')\n",
        "sns.kdeplot(arr[700:900],color = 'blue')\n",
        "sns.kdeplot(arr[900:984],color = 'red')\n",
        "\n",
        "plt.show()"
      ],
      "execution_count": 27,
      "outputs": [
        {
          "output_type": "stream",
          "text": [
            "       DATA_1 ~ 700\n",
            "count    700.000000\n",
            "mean       6.661875\n",
            "std        3.407057\n",
            "min        0.196531\n",
            "25%        4.100244\n",
            "50%        6.197445\n",
            "75%        8.939044\n",
            "max       18.791579\n",
            "\n",
            "\n",
            "       DATA_701 ~ 900\n",
            "count      200.000000\n",
            "mean        14.849558\n",
            "std         10.681114\n",
            "min          0.997595\n",
            "25%          7.489461\n",
            "50%         12.288246\n",
            "75%         19.305694\n",
            "max         67.368941\n",
            "\n",
            "\n",
            "       DATA_900 ~ 984\n",
            "count       84.000000\n",
            "mean        51.684767\n",
            "std         29.789699\n",
            "min          0.039503\n",
            "25%         31.860114\n",
            "50%         43.900040\n",
            "75%         66.575639\n",
            "max        157.370087\n",
            "\n",
            "\n"
          ],
          "name": "stdout"
        },
        {
          "output_type": "display_data",
          "data": {
            "image/png": "[encoded data removed]",
            "text/plain": [
              "<Figure size 432x288 with 1 Axes>"
            ]
          },
          "metadata": {
            "tags": [],
            "needs_background": "light"
          }
        }
      ]
    }
  ]
}
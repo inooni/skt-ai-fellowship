{
  "nbformat": 4,
  "nbformat_minor": 0,
  "metadata": {
    "colab": {
      "name": "fft_result.ipynb",
      "provenance": [],
      "authorship_tag": "ABX9TyO8otVFhOCV2kTzZL77Husx",
      "include_colab_link": true
    },
    "kernelspec": {
      "name": "python3",
      "display_name": "Python 3"
    },
    "language_info": {
      "name": "python"
    }
  },
  "cells": [
    {
      "cell_type": "markdown",
      "metadata": {
        "id": "view-in-github",
        "colab_type": "text"
      },
      "source": [
        "<a href=\"https://colab.research.google.com/github/inooni/skt-ai-fellowship/blob/main/fft_result.ipynb\" target=\"_parent\"><img src=\"https://colab.research.google.com/assets/colab-badge.svg\" alt=\"Open In Colab\"/></a>"
      ]
    },
    {
      "cell_type": "code",
      "metadata": {
        "colab": {
          "base_uri": "https://localhost:8080/"
        },
        "id": "pQfpy2rdr_k8",
        "outputId": "38b0ca7c-bb4c-4733-b0f9-b08bf1eeca39"
      },
      "source": [
        " from google.colab import drive\n",
        " \n",
        "drive.mount('/content/drive')"
      ],
      "execution_count": 1,
      "outputs": [
        {
          "output_type": "stream",
          "text": [
            "Mounted at /content/drive\n"
          ],
          "name": "stdout"
        }
      ]
    },
    {
      "cell_type": "code",
      "metadata": {
        "id": "6C7Vtuzsto3V"
      },
      "source": [
        "import pandas as pd\n",
        "import numpy as np\n",
        "import os\n",
        "import matplotlib.pyplot as plt\n",
        "import csv"
      ],
      "execution_count": 2,
      "outputs": []
    },
    {
      "cell_type": "code",
      "metadata": {
        "id": "kl31ZGdyr21y"
      },
      "source": [
        "# 각 데이터 -> FFT 변환\n",
        "# freq 범위: 0~10239 (0은 데이터의 bias를 보여줌) \n",
        "# 각각의 freq마다 시간에 따른 진폭 값을 저장\n",
        " \n",
        "dataset_path = '/content/drive/My Drive/NASA_Bearing/2nd_test/2nd_test/'\n",
        " \n",
        "result_path = '/content/drive/My Drive/NASA_Bearing/2nd_test/analysis/Bearing_1/fft_result/'\n",
        " \n",
        "count = 0\n",
        "result = [[0 for col in range(0,984)] for row in range(0,10245)]\n",
        "filelist = sorted(os.listdir(dataset_path))\n",
        "for filename in filelist:\n",
        "    dataset2=pd.read_csv(os.path.join(dataset_path, filename), sep='\\t', header=None)\n",
        " \n",
        " \n",
        "    dataset2.columns = ['Bearing 1','Bearing 2','Bearing 3','Bearing 4'] \n",
        " \n",
        "    signal = list(dataset2['Bearing 1'].values)\n",
        "    fs = len(signal)\n",
        "    fft = np.fft.fft(signal)\n",
        "    freq = np.fft.fftfreq(fs,1/fs)\n",
        "    fft_magnitude = abs(fft)\n",
        "    \n",
        "    for i in range(0,len(freq)):\n",
        "        if freq[i] >= 0:\n",
        "            result[int(freq[i])][count]=fft_magnitude[i]\n",
        "\n",
        "    count = count + 1\n",
        " \n",
        " \n",
        "for i in range(0,10240):\n",
        "    with open(result_path + str(i) + '.csv', 'w',newline='') as f: \n",
        "        write = csv.writer(f) \n",
        "        write.writerow(result[i])"
      ],
      "execution_count": 3,
      "outputs": []
    }
  ]
}
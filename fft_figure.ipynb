{
  "nbformat": 4,
  "nbformat_minor": 0,
  "metadata": {
    "colab": {
      "name": "fft_figure.ipynb",
      "provenance": [],
      "collapsed_sections": [],
      "authorship_tag": "ABX9TyNW0gAupPdnwQQpiXC5UfNb",
      "include_colab_link": true
    },
    "kernelspec": {
      "name": "python3",
      "display_name": "Python 3"
    },
    "language_info": {
      "name": "python"
    }
  },
  "cells": [
    {
      "cell_type": "markdown",
      "metadata": {
        "id": "view-in-github",
        "colab_type": "text"
      },
      "source": [
        "<a href=\"https://colab.research.google.com/github/inooni/skt-ai-fellowship/blob/main/fft_figure.ipynb\" target=\"_parent\"><img src=\"https://colab.research.google.com/assets/colab-badge.svg\" alt=\"Open In Colab\"/></a>"
      ]
    },
    {
      "cell_type": "code",
      "metadata": {
        "colab": {
          "base_uri": "https://localhost:8080/"
        },
        "id": "vGJdXZyv6bJ3",
        "outputId": "d4156ed4-f19a-471b-a8af-38dc1f32711f"
      },
      "source": [
        "from google.colab import drive\n",
        " \n",
        "drive.mount('/content/drive')"
      ],
      "execution_count": null,
      "outputs": [
        {
          "output_type": "stream",
          "text": [
            "Mounted at /content/drive\n"
          ],
          "name": "stdout"
        }
      ]
    },
    {
      "cell_type": "code",
      "metadata": {
        "id": "60bMKinM-CXt"
      },
      "source": [
        "import pandas as pd\n",
        "import numpy as np\n",
        "import os\n",
        "import matplotlib.pyplot as plt"
      ],
      "execution_count": null,
      "outputs": []
    },
    {
      "cell_type": "code",
      "metadata": {
        "id": "B99a4x7m6dM-"
      },
      "source": [
        " \n",
        " \n",
        " \n",
        "dataset_path = '/content/drive/My Drive/NASA_Bearing/2nd_test/2nd_test/'\n",
        " \n",
        "result_path = '/content/drive/My Drive/NASA_Bearing/2nd_test/analysis/Bearing_1/fft_figure'\n",
        " \n",
        "count = 0\n",
        " \n",
        "filelist = sorted(os.listdir(dataset_path)) # 파일 날짜순으로 정렬\n",
        "for filename in filelist:\n",
        "    count = count + 1\n",
        "    #if count < 618: # colab 런타임 종료시 사용\n",
        "    #    continue\n",
        "    dataset2=pd.read_csv(os.path.join(dataset_path, filename), sep='\\t', header=None)\n",
        " \n",
        "    dataset2.columns = ['Bearing 1','Bearing 2','Bearing 3','Bearing 4'] \n",
        " \n",
        "\n",
        " \n",
        "    signal = list(dataset2['Bearing 1'].values)\n",
        "    fs = len(signal) #20480\n",
        " \n",
        "    # 가속도 센서 데이터\n",
        "\n",
        "    t = np.arange(0, 1, 1 / fs)\n",
        "\n",
        "    plt.subplot(2,1,1)\n",
        "    plt.rcParams[\"figure.figsize\"] = (80,20) \n",
        "    plt.rcParams['lines.linewidth'] = 2\n",
        "    plt.plot(t,signal) \n",
        "    plt.grid()\n",
        "    \n",
        "    #FFT 변환   \n",
        "\n",
        "    fft = np.fft.fft(signal) # np.mean(signal)을 빼주지 않음으로서, freq가 0일때의 진폭값, 즉, 진동의 bias 또한 학습 데이터로 이용할 것이다\n",
        "    freq = np.fft.fftfreq(fs,1/fs)\n",
        "    fft_magnitude = abs(fft)\n",
        " \n",
        "    plt.subplot(2,1,2)\n",
        "    plt.xlim(0,11000,100)\n",
        "    plt.ylim(0,500,10)\n",
        "    plt.rcParams[\"figure.figsize\"] = (80,20) \n",
        "    plt.rcParams['lines.linewidth'] = 2\n",
        "    plt.rcParams['lines.color'] = 'r'\n",
        "    plt.stem(freq,fft_magnitude)\n",
        "    plt.grid()                                                                                 \n",
        "    \n",
        "    #plt.show()\n",
        "    plt.savefig(os.path.join(result_path, str(count)+'.png'), dpi = 200)\n",
        " \n",
        "    plt.clf()"
      ],
      "execution_count": null,
      "outputs": []
    }
  ]
}